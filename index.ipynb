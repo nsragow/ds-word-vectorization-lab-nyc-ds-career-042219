{
 "cells": [
  {
   "cell_type": "markdown",
   "metadata": {},
   "source": [
    "# Word Vectorization Lab\n",
    "\n",
    "## Problem Statement\n",
    "\n",
    "In this lab, we'll learn how totokenize and vectorize text documents, create an use a Bag of Words, and identify words unique to individual documents using TF-IDF Vectorization. \n",
    "\n",
    "## Objectives\n",
    "\n",
    "* Tokenize a corpus of words and identify the different choices to be made while parsing them. \n",
    "* Use a Count Vectorization strategy to create a Bag of Words\n",
    "* Use TF-IDF Vectorization with multiple documents to identify words that are important/unique to certain documents. \n",
    "\n",
    "\n",
    "\n",
    "Run the cell below to import everything necessary for this lab.  "
   ]
  },
  {
   "cell_type": "code",
   "execution_count": 1,
   "metadata": {},
   "outputs": [],
   "source": [
    "import pandas as pd\n",
    "import numpy as np\n",
    "from mpl_toolkits.mplot3d import Axes3D\n",
    "import matplotlib.pyplot as plt\n",
    "%matplotlib inline\n",
    "from sklearn.manifold import TSNE\n",
    "from nltk.tokenize import word_tokenize\n",
    "np.random.seed(0)"
   ]
  },
  {
   "cell_type": "markdown",
   "metadata": {},
   "source": [
    "### Our Corpus\n",
    "\n",
    "In this lab, we'll be working with 20 different documents, each containing song lyrics from either Garth Brooks or Kendrick Lamar albums.  \n",
    "\n",
    "The songs are contained within the `data` subdirectory, contained within the same folder as this lab.  Each song is stored in a single file, with files ranging from `song1.txt` to `song20.txt`.  \n",
    "\n",
    "To make it easy to read in all of the documents, use a list comprehension to create a list containing the name of every single song file in the cell below. "
   ]
  },
  {
   "cell_type": "code",
   "execution_count": 11,
   "metadata": {},
   "outputs": [
    {
     "name": "stdout",
     "output_type": "stream",
     "text": [
      "import requests as r\r\n",
      "from bs4 import BeautifulSoup\r\n",
      "\r\n",
      "def get_page_content(url):\r\n",
      "    result = r.get(url)\r\n",
      "    content = result.content\r\n",
      "    if result.status_code == 200:\r\n",
      "        print(\"Page retrieved successfully!\")\r\n",
      "        return content\r\n",
      "    else:\r\n",
      "        print(\"Error: Status Code {}\".format(result.status_code))\r\n",
      "\r\n",
      "\r\n",
      "\r\n",
      "\r\n",
      "\r\n",
      "\r\n",
      "\r\n",
      "\r\n",
      "if __name__ == '__main__':\r\n",
      "    sample_url = 'https://www.azlyrics.com/lyrics/weeknd/prayforme.html'\r\n",
      "    get_page_content(sample_url)\r\n"
     ]
    }
   ],
   "source": [
    "cat data/lyrics_helper.py"
   ]
  },
  {
   "cell_type": "code",
   "execution_count": 12,
   "metadata": {},
   "outputs": [],
   "source": [
    "import requests as r\n",
    "from bs4 import BeautifulSoup\n",
    "\n",
    "def get_page_content(url):\n",
    "    result = r.get(url)\n",
    "    content = result.content\n",
    "    if result.status_code == 200:\n",
    "        print(\"Page retrieved successfully!\")\n",
    "        return content\n",
    "    else:\n",
    "        print(\"Error: Status Code {}\".format(result.status_code))\n",
    "\n",
    "        "
   ]
  },
  {
   "cell_type": "code",
   "execution_count": 14,
   "metadata": {},
   "outputs": [
    {
     "name": "stdout",
     "output_type": "stream",
     "text": [
      "Page retrieved successfully!\n"
     ]
    },
    {
     "data": {
      "text/plain": [
       "b'<!DOCTYPE html>\\r\\n<html lang=\"en\">\\r\\n<head>\\r\\n<meta charset=\"utf-8\">\\r\\n<meta http-equiv=\"X-UA-Compatible\" content=\"IE=edge\">\\r\\n<meta name=\"viewport\" content=\"width=device-width, initial-scale=1\">\\r\\n<meta name=\"description\" content=\"Lyrics to &quot;Pray For Me&quot; song by The Weeknd &amp; Kendrick Lamar: Ooh, ooh, ooh, ooh I\\'m always ready for a war again Go down that road again It\\'s all the same I\\'m...\"> \\r\\n<meta name=\"keywords\" content=\"Pray For Me lyrics, The Weeknd &amp; Kendrick Lamar Pray For Me lyrics, The Weeknd &amp; Kendrick Lamar lyrics\">\\r\\n<meta name=\"robots\" content=\"noarchive\">\\r\\n<meta property=\"og:image\" content=\"//www.azlyrics.com/az_logo_tr.png\">\\r\\n<title>The Weeknd &amp; Kendrick Lamar - Pray For Me Lyrics | AZLyrics.com</title>\\r\\n\\r\\n<link rel=\"stylesheet\" href=\"https://maxcdn.bootstrapcdn.com/bootstrap/3.3.4/css/bootstrap.min.css\">\\r\\n<link rel=\"stylesheet\" href=\"//www.azlyrics.com/bsaz.css\">\\r\\n\\r\\n<!-- HTML5 shim and Respond.js for IE8 support of HTML5 elements and media queries -->\\r\\n<!--[if lt IE 9]>\\r\\n<script src=\"https://oss.maxcdn.com/html5shiv/3.7.2/html5shiv.min.js\"></script>\\r\\n<script src=\"https://oss.maxcdn.com/respond/1.4.2/respond.min.js\"></script>\\r\\n<![endif]-->\\r\\n\\r\\n<script type=\"text/javascript\">\\r\\nArtistName = \"The Weeknd &amp; Kendrick Lamar\";\\r\\nSongName = \"Pray For Me\";\\r\\nfunction submitCorrections(){\\r\\n\\tdocument.getElementById(\\'corlyr\\').submit();\\r\\n\\treturn false;\\r\\n}\\r\\n</script>\\r\\n</head>\\r\\n<body>\\r\\n\\r\\n<div id=\"fb-root\"></div>\\r\\n<script>(function(d, s, id) {\\r\\n  var js, fjs = d.getElementsByTagName(s)[0];\\r\\n  if (d.getElementById(id)) return;\\r\\n  js = d.createElement(s); js.id = id;\\r\\n  js.src = \"//connect.facebook.net/en_US/sdk.js#xfbml=1&version=v2.3\";\\r\\n  fjs.parentNode.insertBefore(js, fjs);\\r\\n}(document, \\'script\\', \\'facebook-jssdk\\'));</script>\\r\\n\\r\\n  <nav class=\"navbar navbar-default navbar-static-top noprint\">\\r\\n  <div class=\"container\">\\r\\n    <!-- Brand and toggle get grouped for better mobile display -->\\r\\n    <div class=\"navbar-header\">\\r\\n      <button type=\"button\" class=\"navbar-toggle collapsed\" data-toggle=\"collapse\" data-target=\"#search-collapse\">\\r\\n        <span class=\"glyphicon glyphicon-search\"></span>\\r\\n      </button>\\r\\n      <button type=\"button\" class=\"navbar-toggle collapsed\" data-toggle=\"collapse\" data-target=\"#artists-collapse\">\\r\\n        <span class=\"glyphicon glyphicon-th-list\"></span>\\r\\n      </button>\\r\\n      <a class=\"navbar-brand\" href=\"//www.azlyrics.com\"><img alt=\"AZLyrics.com\" class=\"pull-left\" style=\"max-height:40px; margin-top:-10px;\" src=\"//www.azlyrics.com/az_logo_tr.png\"></a>\\r\\n    </div>\\r\\n    <ul class=\"collapse navbar-collapse nav navbar-nav\" id=\"artists-collapse\">\\r\\n    <li>\\r\\n    <div class=\"btn-group text-center\" role=\"group\">\\r\\n    <a class=\"btn btn-menu\" href=\"//www.azlyrics.com/a.html\">A</a>\\r\\n    <a class=\"btn btn-menu\" href=\"//www.azlyrics.com/b.html\">B</a>\\r\\n    <a class=\"btn btn-menu\" href=\"//www.azlyrics.com/c.html\">C</a>\\r\\n    <a class=\"btn btn-menu\" href=\"//www.azlyrics.com/d.html\">D</a>\\r\\n    <a class=\"btn btn-menu\" href=\"//www.azlyrics.com/e.html\">E</a>\\r\\n    <a class=\"btn btn-menu\" href=\"//www.azlyrics.com/f.html\">F</a>\\r\\n    <a class=\"btn btn-menu\" href=\"//www.azlyrics.com/g.html\">G</a>\\r\\n    <a class=\"btn btn-menu\" href=\"//www.azlyrics.com/h.html\">H</a>\\r\\n    <a class=\"btn btn-menu\" href=\"//www.azlyrics.com/i.html\">I</a>\\r\\n    <a class=\"btn btn-menu\" href=\"//www.azlyrics.com/j.html\">J</a>\\r\\n    <a class=\"btn btn-menu\" href=\"//www.azlyrics.com/k.html\">K</a>\\r\\n    <a class=\"btn btn-menu\" href=\"//www.azlyrics.com/l.html\">L</a>\\r\\n    <a class=\"btn btn-menu\" href=\"//www.azlyrics.com/m.html\">M</a>\\r\\n    <a class=\"btn btn-menu\" href=\"//www.azlyrics.com/n.html\">N</a>\\r\\n    <a class=\"btn btn-menu\" href=\"//www.azlyrics.com/o.html\">O</a>\\r\\n    <a class=\"btn btn-menu\" href=\"//www.azlyrics.com/p.html\">P</a>\\r\\n    <a class=\"btn btn-menu\" href=\"//www.azlyrics.com/q.html\">Q</a>\\r\\n    <a class=\"btn btn-menu\" href=\"//www.azlyrics.com/r.html\">R</a>\\r\\n    <a class=\"btn btn-menu\" href=\"//www.azlyrics.com/s.html\">S</a>\\r\\n    <a class=\"btn btn-menu\" href=\"//www.azlyrics.com/t.html\">T</a>\\r\\n    <a class=\"btn btn-menu\" href=\"//www.azlyrics.com/u.html\">U</a>\\r\\n    <a class=\"btn btn-menu\" href=\"//www.azlyrics.com/v.html\">V</a>\\r\\n    <a class=\"btn btn-menu\" href=\"//www.azlyrics.com/w.html\">W</a>\\r\\n    <a class=\"btn btn-menu\" href=\"//www.azlyrics.com/x.html\">X</a>\\r\\n    <a class=\"btn btn-menu\" href=\"//www.azlyrics.com/y.html\">Y</a>\\r\\n    <a class=\"btn btn-menu\" href=\"//www.azlyrics.com/z.html\">Z</a>\\r\\n    <a class=\"btn btn-menu\" href=\"//www.azlyrics.com/19.html\">#</a>\\r\\n    </div>\\r\\n    </li>\\r\\n    </ul>\\r\\n\\r\\n    <div class=\"collapse navbar-collapse\" id=\"search-collapse\">\\r\\n\\r\\n        <form class=\"navbar-form navbar-right search\" method=\"get\" action=\"//search.azlyrics.com/search.php\" role=\"search\">\\r\\n         <div class=\"input-group\">  \\r\\n\\t\\t<input type=\"text\" class=\"form-control\" placeholder=\"\" name=\"q\" id=\"q\">\\r\\n       \\t\\t<span class=\"input-group-btn\">\\r\\n            \\t  <button class=\"btn btn-primary\" type=\"submit\"><span class=\"glyphicon glyphicon-search\"></span> Search</button>\\r\\n          \\t</span>\\r\\n \\t  </div>   \\r\\n\\t</form>\\r\\n\\r\\n    </div><!-- /.navbar-collapse -->\\r\\n    </div><!-- /.container -->\\r\\n  </nav>\\r\\n\\r\\n<!-- top ban -->\\r\\n  <div class=\"lboard-wrap noprint\">\\r\\n  <div class=\"container\">\\r\\n    <div class=\"row\">\\r\\n       <div class=\"col-xs-12 top-ad text-center\">\\r\\n         <span id=\"cf_banner_top_nofc\"></span>\\r\\n       </div>\\r\\n    </div>\\r\\n  </div>\\r\\n  </div>\\r\\n\\r\\n<!-- main -->\\r\\n<div class=\"container main-page\">\\r\\n<div class=\"row\">\\r\\n<div class=\"col-lg-2 text-center hidden-md hidden-sm hidden-xs noprint\">\\r\\n   <div class=\"sky-ad\"></div>\\r\\n</div>\\r\\n\\r\\n<!-- content -->\\r\\n<div class=\"col-xs-12 col-lg-8 text-center\">\\r\\n\\r\\n<div class=\"div-share noprint\">\\r\\n<div class=\"fb-like\" style=\"float:left;\" data-href=\"https://www.azlyrics.com/lyrics/weeknd/prayforme.html\" data-layout=\"button_count\" data-action=\"like\" data-show-faces=\"false\" data-share=\"false\"></div>\\r\\n<!-- AddThis Button BEGIN -->\\r\\n<script type=\"text/javascript\" src=\"https://s7.addthis.com/js/300/addthis_widget.js#username=azlyrics\"></script>\\r\\n<div class=\"addthis_toolbox addthis_default_style\" style=\"float:right;\">\\r\\n<a class=\"btn btn-xs btn-share addthis_button_email\">\\r\\n<span class=\"playblk\"><img src=\"//www.azlyrics.com/images/email.svg\" width=\"56\" height=\"18\" class=\"playblk\" alt=\"Email\"></span>\\r\\n</a>\\r\\n<a class=\"btn btn-xs btn-share addthis_button_print\" style=\"margin-right: 0px !important;\">\\r\\n<span class=\"playblk\"><img src=\"//www.azlyrics.com/images/print.svg\" width=\"56\" height=\"18\" class=\"playblk\" alt=\"Print\"></span>\\r\\n</a>\\r\\n</div>\\r\\n</div>\\r\\n<!-- AddThis Button END -->\\r\\n\\r\\n<div class=\"div-share\"><h1>\"Pray For Me\" lyrics</h1></div>\\r\\n\\r\\n<div class=\"lyricsh\">\\r\\n<h2><b>The Weeknd &amp; Kendrick Lamar Lyrics</b></h2>\\r\\n</div>\\r\\n\\r\\n<div class=\"ringtone\">\\r\\n<span id=\"cf_text_top\"></span>\\r\\n</div>\\r\\n\\r\\n<b>\"Pray For Me\"</b><br>\\r\\n<span class=\"feat\">(from &quot;Black Panther&quot; soundtrack)</span><br>\\n<br>\\r\\n\\r\\n<div>\\r\\n<!-- Usage of azlyrics.com content by any third-party lyrics provider is prohibited by our licensing agreement. Sorry about that. -->\\r\\nOoh, ooh, ooh, ooh<br>\\n<br>\\n<i>[The Weeknd:]</i><br>\\nI\\'m always ready for a war again<br>\\nGo down that road again<br>\\nIt\\'s all the same<br>\\nI\\'m always ready to take a life again<br>\\nYou know I\\'ll ride again<br>\\nIt\\'s all the same (ooh, ooh, ooh)<br>\\nTell me who\\'s gon\\' save me from myself<br>\\nWhen this life is all I know<br>\\nTell me who\\'s gon\\' save me from this hell<br>\\nWithout you, I\\'m all alone<br>\\n<br>\\nWho gon\\' pray for me?<br>\\nTake my pain for me?<br>\\nSave my soul for me?<br>\\n\\'Cause I\\'m alone, you see<br>\\nIf I\\'m gon\\' die for you<br>\\nIf I\\'m gon\\' kill for you<br>\\nThen I spilled this blood for you, hey<br>\\n<br>\\n<i>[Kendrick Lamar:]</i><br>\\nI fight the world, I fight you, I fight myself<br>\\nI fight God, just tell me how many burdens left<br>\\nI fight pain and hurricanes, today I wept<br>\\nI\\'m tryna fight back tears, flood on my doorsteps<br>\\nLife a livin\\' hell, puddles of blood in the streets<br>\\nShooters on top of the building, government aid ain\\'t relief<br>\\nEarthquake, the body dropped, the ground breaks<br>\\nThe poor run with smoke lungs and Scarface<br>\\nWho need a hero? (Hero)<br>\\nYou need a hero, look in the mirror, there go your hero<br>\\nWho on the front lines at ground zero? (Hero)<br>\\nMy heart don\\'t skip a beat, even when hard times bumps the needle<br>\\nMass destruction and mass corruption<br>\\nThe souls of sufferin\\' men<br>\\nClutchin\\' on deaf ears again, rapture is comin\\'<br>\\nIt\\'s all prophecy and if I gotta be sacrificed for the greater good<br>\\nThen that\\'s what it gotta be<br>\\n<br>\\n<i>[The Weeknd:]</i><br>\\nWho gon\\' pray for me?<br>\\nTake my pain for me?<br>\\nSave my soul for me?<br>\\n\\'Cause I\\'m alone, you see<br>\\nIf I\\'m gon\\' die for you<br>\\nIf I\\'m gon\\' kill for you<br>\\nThen I spilled this blood for you, hey<br>\\n<br>\\nHey, hey, hey, hey<br>\\nHey, hey, hey, hey<br>\\n<br>\\nWho gon\\' pray for me?<br>\\nTake my pain for me?<br>\\nSave my soul for me?<br>\\n\\'Cause I\\'m alone, you see<br>\\nIf I\\'m gon\\' die for you<br>\\nIf I\\'m gon\\' kill for you<br>\\nThen I spilled this blood for you, hey<br>\\n<br>\\n<i>[Kendrick Lamar &amp; The Weeknd:]</i><br>\\nJust in case my faith go, I\\'ll live by my own law<br>\\nI\\'ll live by my own law, I\\'ll live by my own<br>\\nJust in case my faith go, I\\'ll live by my own law<br>\\nI\\'ll live by my own law, I\\'ll live by my own\\n</div>\\r\\n\\r\\n<br><br>\\r\\n\\r\\n<!-- MxM banner -->\\r\\n<div class=\"noprint\">\\r\\n<script>\\r\\nif  ( /Android|webOS|iPhone|iPod|iPad|BlackBerry|IEMobile|Opera Mini/i.test(navigator.userAgent) ) \\r\\n  {\\r\\n     document.write(\\'<div style=\"margin-left: auto; margin-right: auto;\">\\'+\\r\\n  \\'<iframe scrolling=\"no\" style=\"border: 0px none; overflow:hidden;\" src=\"//adv.mxmcdn.net/br/t1.0/m_js/e_0/sn_0/l_17547423/su_0/rs_0/tr_3vUCAMD0v6x_MEY_aeLAmzyxGQAuJu1stkJZGADuJbmCjiP1QAb_hISKHlZcATJP3B8-SYw_MWhibTcvde8v-CuiUB4yvbSsExzSfDePDTIMvCVq9OHumYRXNwNONduyXL-bG__iMEmucHQowbkWCiae95RDZLsx7uMq6RF0F5X3SdAJejwADpVn2CeiykM_SuQK42whycOAW5iBSeexqKoDvwk5jOoE3HeByWxZfnHm9LDGH3LKYJ5Hsiyw7WwMeJ0dQr_r9n81K43LxV3OmSKBTqIOpJuIVGPRUv737hEci-7k6Qktb5ecTOyd9VX5fOvJBkwVhrcXVHTXeVjD4wV5n4NvWTOJOGU0OWgDYlbvZVKvNLs_hvQci7RtAowcDlCHxZ-mW0ug6D2TTmfhQoD9xby1NgmARf4epS-je-coaAgXJbBJBev23hEKDGt3VZz3C0qcPrnizlzT8U9qT8PIk7EEhvQGZIFOYKKA02JoVBbL/\" width=\"290px\" height=\"50px\"></iframe>\\'+\\r\\n  \\'</div>\\');\\r\\n   }\\r\\n</script>\\r\\n<br><br>\\r\\n</div>\\r\\n\\r\\n<form id=\"addsong\" action=\"../../add.php\" method=\"post\">\\r\\n<input type=\"hidden\" name=\"what\" value=\"add_song\">\\r\\n<input type=\"hidden\" name=\"artist\" value=\"The Weeknd &amp; Kendrick Lamar\">\\r\\n<input type=\"hidden\" name=\"artist_id\" value=\"3376\">\\r\\n</form>\\r\\n\\r\\n<form id=\"corlyr\" action=\"../../add.php\" method=\"post\">\\r\\n<input type=\"hidden\" name=\"what\" value=\"correct_lyrics\">\\r\\n<input type=\"hidden\" name=\"song_id\" value=\"610262\">\\r\\n</form>\\r\\n\\r\\n<div class=\"smt noprint\">\\r\\n<a class=\"btn btn-share\" href=\"#\" onclick=\"submitCorrections()\"><span class=\"glyphicon glyphicon-pencil\"></span> Submit Corrections</a>\\r\\n</div>\\r\\n\\r\\n<div class=\"smt\"><small>Thanks to Rifat for correcting these lyrics.<br></small>\\n</div>\\r\\n\\r\\n<div class=\"noprint\" style=\"padding: 15px 0\">\\r\\n<span id=\"cf_text_bottom\"></span>\\r\\n</div>\\r\\n\\r\\n<!-- credits -->\\r\\n<div class=\"smt\"><small>Writer(s): ABEL TESFAYE, KENDRICK DUCKWORTH, ANTHONY TIFFITH, MARTIN MCKINNEY, ADAM FEENEY</small>\\n<br>\\n</div>\\r\\n\\r\\n<!-- song facts -->\\r\\n<div class=\"panel album-panel noprint\">\\n\"Pray for Me\" is a song by \"The Weeknd\" and rapper Kendrick Lamar from the soundtrack of superhero film \"Black Panther\".\\n</div>\\n<div class=\"panel album-panel noprint\">\\n\"Pray for Me\" released on February 2, 2018, debuted at No. 2 on the R&B/Hip-Hop Digital Song Sales chart.\\n</div>\\n\\r\\n<!-- artist link -->\\r\\n<ol class=\"breadcrumb noprint\" itemscope itemtype=\"https://schema.org/BreadcrumbList\">\\r\\n  <li itemprop=\"itemListElement\" itemscope itemtype=\"https://schema.org/ListItem\"><a itemprop=\"item\" href=\"//www.azlyrics.com\"><span itemprop=\"name\">AZLyrics</span></a></li>\\r\\n  <li itemprop=\"itemListElement\" itemscope itemtype=\"https://schema.org/ListItem\"><a itemprop=\"item\" href=\"//www.azlyrics.com/w.html\"><span itemprop=\"name\">W</span></a></li>\\r\\n  <li itemprop=\"itemListElement\" itemscope itemtype=\"https://schema.org/ListItem\"><a itemprop=\"item\" href=\"//www.azlyrics.com/w/weeknd.html\"><span itemprop=\"name\">The Weeknd Lyrics</span></a></li>\\r\\n</ol>\\r\\n\\r\\n<!-- album songlists -->\\r\\n<!-- album songlists end -->\\r\\n\\r\\n        <form class=\"search noprint\" method=\"get\" action=\"//search.azlyrics.com/search.php\" role=\"search\">\\r\\n         <div style=\"margin-bottom:15px\" class=\"input-group\">  \\r\\n\\t\\t<input type=\"text\" class=\"form-control\" placeholder=\"\" name=\"q\">\\r\\n       \\t\\t<span class=\"input-group-btn\">\\r\\n            \\t  <button class=\"btn btn-primary\" type=\"submit\"><span class=\"glyphicon glyphicon-search\"></span> Search</button>\\r\\n          \\t</span>\\r\\n \\t  </div>   \\r\\n\\t</form>\\r\\n\\r\\n<div class=\"noprint visible-xs-block\" style=\"margin-top:5px;margin-bottom:5px\">\\r\\n<span id=\"cf_rect_bottom\"></span>\\r\\n</div>\\r\\n\\r\\n</div> <!-- content -->\\r\\n\\r\\n<div class=\"col-lg-2 text-center hidden-md hidden-sm hidden-xs noprint\">\\r\\n   <div class=\"sky-ad\"></div>\\r\\n</div>\\r\\n</div>\\r\\n</div>  <!-- container main-page -->\\r\\n\\r\\n<!-- nav bottom -->\\r\\n       <nav class=\"navbar navbar-default navbar-bottom\">\\r\\n          <div class=\"container text-center\">\\r\\n          <ul class=\"nav navbar-nav navbar-center\">\\r\\n            <li><a href=\"//www.azlyrics.com/add.php\" onclick=\"document.forms[\\'addsong\\'].submit();return false;\">Submit Lyrics</a></li>\\r\\n            <li><a href=\"//www.stlyrics.com\">Soundtracks</a></li>\\r\\n            <li><a href=\"//www.facebook.com/pages/AZLyricscom/154139197951223\">Facebook</a></li>\\r\\n            <li><a href=\"//www.azlyrics.com/contact.html\">Contact Us</a></li>\\r\\n          </ul>\\r\\n          </div> \\r\\n        </nav>\\r\\n\\r\\n<!-- bot ban -->\\r\\n  <div class=\"lboard-wrap noprint\">\\r\\n  <div class=\"container\">\\r\\n    <div class=\"row\">\\r\\n       <div class=\"col-xs-12 top-ad text-center\">\\r\\n          <span id=\"cf_banner_bottom\"></span>\\r\\n       </div>\\r\\n    </div>\\r\\n  </div>\\r\\n  </div>\\r\\n\\r\\n<!-- footer -->\\r\\n     <nav class=\"navbar navbar-footer noprint\">\\r\\n          <div class=\"container text-center\">\\r\\n          <ul class=\"nav navbar-nav navbar-center\">\\r\\n            <li><a href=\"//www.azlyrics.com/adv.html\">Advertise Here</a></li>\\r\\n            <li><a href=\"//www.azlyrics.com/privacy.html\">Privacy Policy</a></li>\\r\\n            <li><a href=\"//www.azlyrics.com/cookie.html\">Cookie Policy</a></li>\\r\\n            <li><a href=\"//www.azlyrics.com/copyright.html\">DMCA Policy</a></li>\\r\\n          </ul>\\r\\n          </div> \\r\\n     </nav>\\r\\n     <div class=\"footer-wrap\">\\r\\n          <div class=\"container\">\\r\\n          <div class=\"noprint\"><span style=\"font-weight:bold;line-height:54px;vertical-align:top;\">Powered by </span><img src=\"//www.azlyrics.com/images/mxm.png\" width=\"184\" height=\"54\" alt=\"MusixMatch\"></div>\\n          <small>\\r\\n             The Weeknd &amp; Kendrick Lamar lyrics are property and copyright of their owners. \"Pray For Me\" lyrics provided for educational purposes and personal use only.<br>\\r\\n             <script type=\"text/javascript\">\\r\\n                curdate=new Date();\\r\\n                document.write(\"<strong>Copyright &copy; 2000-\"+curdate.getFullYear()+\" AZLyrics.com<\\\\/strong>\");\\r\\n             </script>\\r\\n          </small>\\r\\n          </div>\\r\\n     </div>\\r\\n\\r\\n<script>\\r\\ncf_page_artist = ArtistName;\\r\\ncf_page_song = SongName;\\r\\ncf_page_genre = \"urban\";\\r\\n</script>\\r\\n<script src=\"//cdn.clickfuse.com/publishers/azlyrics/single.min.js\"></script>\\r\\n\\r\\n<script type=\"text/javascript\">\\r\\n\\r\\n  var _gaq = _gaq || [];\\r\\n  _gaq.push([\\'_setAccount\\', \\'UA-4309237-1\\']);\\r\\n\\r\\n  (function() {\\r\\n    var ga = document.createElement(\\'script\\'); ga.type = \\'text/javascript\\'; ga.async = true;\\r\\n    ga.src = (\\'https:\\' == document.location.protocol ? \\'https://ssl\\' : \\'http://www\\') + \\'.google-analytics.com/ga.js\\';\\r\\n    var s = document.getElementsByTagName(\\'script\\')[0]; s.parentNode.insertBefore(ga, s);\\r\\n  })();\\r\\n\\r\\n</script>\\r\\n    <div id=\"CssFailCheck\" class=\"hidden\" style=\"height:1px;\"></div>\\r\\n    <script src=\"https://ajax.googleapis.com/ajax/libs/jquery/1.11.2/jquery.min.js\"></script>\\r\\n    <script>window.jQuery || document.write(\\'<script src=\"//www.azlyrics.com/local/jquery.min.js\"><\\\\/script>\\')</script>\\r\\n    <script>\\r\\n      $(function () {\\r\\n       if ($(\\'#CssFailCheck\\').is(\\':visible\\') === true) {\\r\\n         $(\\'<link rel=\"stylesheet\" type=\"text/css\" href=\"//www.azlyrics.com/bs/css/bootstrap.min.css\"><link rel=\"stylesheet\" href=\"//www.azlyrics.com/bsaz.css\">\\').appendTo(\\'head\\');\\r\\n       }\\r\\n      });\\r\\n    </script>\\r\\n    <script src=\"//www.azlyrics.com/collapse.js\"></script>\\r\\n    <script src=\"//www.azlyrics.com/geo.js\"></script>\\r\\n    <script type=\"text/javascript\" src=\"https://tracking.musixmatch.com/t1.0/m_js/e_0/sn_0/l_17547423/su_0/rs_0/tr_3vUCAMD0v6x_MEY_aeLAmzyxGQAuJu1stkJZGADuJbmCjiP1QAb_hISKHlZcATJP3B8-SYw_MWhibTcvde8v-CuiUB4yvbSsExzSfDePDTIMvCVq9OHumYRXNwNONduyXL-bG__iMEmucHQowbkWCiae95RDZLsx7uMq6RF0F5X3SdAJejwADpVn2CeiykM_SuQK42whycOAW5iBSeexqKoDvwk5jOoE3HeByWxZfnHm9LDGH3LKYJ5Hsiyw7WwMeJ0dQr_r9n81K43LxV3OmSKBTqIOpJuIVGPRUv737hEci-7k6Qktb5ecTOyd9VX5fOvJBkwVhrcXVHTXeVjD4wV5n4NvWTOJOGU0OWgDYlbvZVKvNLs_hvQci7RtAowcDlCHxZ-mW0ug6D2TTmfhQoD9xby1NgmARf4epS-je-coaAgXJbBJBev23hEKDGt3VZz3C0qcPrnizlzT8U9qT8PIk7EEhvQGZIFOYKKA02JoVBbL/\"></script>\\n  </body>\\r\\n</html>'"
      ]
     },
     "execution_count": 14,
     "metadata": {},
     "output_type": "execute_result"
    }
   ],
   "source": [
    "get_page_content(\"https://www.azlyrics.com/lyrics/weeknd/prayforme.html\")"
   ]
  },
  {
   "cell_type": "code",
   "execution_count": 13,
   "metadata": {},
   "outputs": [
    {
     "name": "stdout",
     "output_type": "stream",
     "text": [
      "https://www.azlyrics.com/lyrics/weeknd/prayforme.html\r\n",
      "https://www.azlyrics.com/lyrics/kendricklamar/bigshot.html\r\n",
      "https://www.azlyrics.com/lyrics/mozzy/seasons.html\r\n",
      "https://www.azlyrics.com/lyrics/kendricklamar/redemption.html\r\n",
      "https://www.azlyrics.com/lyrics/kendricklamar/redemptioninterlude.html\r\n",
      "https://www.azlyrics.com/lyrics/jayrock/kingsdead.html\r\n",
      "https://www.azlyrics.com/lyrics/absoul/bloodywaters.html\r\n",
      "https://www.azlyrics.com/lyrics/kendricklamar/paramedic.html\r\n",
      "https://www.azlyrics.com/lyrics/jorjasmith/iam.html\r\n",
      "https://www.azlyrics.com/lyrics/vincestaples/opps.html\r\n",
      "https://www.azlyrics.com/lyrics/khalid/theways.html\r\n",
      "https://www.azlyrics.com/lyrics/schoolboyq/x.html\r\n",
      "https://www.azlyrics.com/lyrics/kendricklamar/allthestars.html\r\n",
      "https://www.azlyrics.com/lyrics/kendricklamar/blackpanther.html\r\n",
      "https://www.azlyrics.com/lyrics/garthbrooks/honkytonksomewhere.html\r\n",
      "https://www.azlyrics.com/lyrics/garthbrooks/weekend.html\r\n",
      "https://www.azlyrics.com/lyrics/garthbrooks/askmehowiknow.html\r\n",
      "https://www.azlyrics.com/lyrics/garthbrooks/babyletslaydownanddance.html\r\n",
      "https://www.azlyrics.com/lyrics/garthbrooks/hereallylovesyou.html\r\n",
      "https://www.azlyrics.com/lyrics/garthbrooks/pureadrenaline.html\r\n",
      "https://www.azlyrics.com/lyrics/garthbrooks/whiskeytowine.html\r\n",
      "https://www.azlyrics.com/lyrics/garthbrooks/bangbang.html\r\n",
      "https://www.azlyrics.com/lyrics/garthbrooks/cowboysandfriends.html\r\n",
      "https://www.azlyrics.com/lyrics/garthbrooks/8teen.html\r\n"
     ]
    }
   ],
   "source": [
    "cat data/lyrics_url.txt"
   ]
  },
  {
   "cell_type": "code",
   "execution_count": 4,
   "metadata": {},
   "outputs": [
    {
     "name": "stdout",
     "output_type": "stream",
     "text": [
      "lyrics_helper.py  song12.txt  song16.txt  song1.txt   song4.txt  song8.txt\r\n",
      "lyrics_url.txt    song13.txt  song17.txt  song20.txt  song5.txt  song9.txt\r\n",
      "song10.txt        song14.txt  song18.txt  song2.txt   song6.txt\r\n",
      "song11.txt        song15.txt  song19.txt  song3.txt   song7.txt\r\n"
     ]
    }
   ],
   "source": [
    "ls data"
   ]
  },
  {
   "cell_type": "code",
   "execution_count": 2,
   "metadata": {},
   "outputs": [],
   "source": [
    "filenames = None"
   ]
  },
  {
   "cell_type": "markdown",
   "metadata": {},
   "source": [
    "Next, let's import a single song to see what our text looks like so that we can make sure we clean and tokenize it correctly. \n",
    "\n",
    "In the cell below, read in and print out the lyrics from `song11.txt`.  Use vanilla python, no pandas needed.  "
   ]
  },
  {
   "cell_type": "code",
   "execution_count": null,
   "metadata": {},
   "outputs": [],
   "source": []
  },
  {
   "cell_type": "markdown",
   "metadata": {},
   "source": [
    "### Tokenizing our Data\n",
    "\n",
    "Before we can create a Bag of Words or vectorize each document, we need to clean it up and split each song into an array of individual words.  Computers are very particular about strings. If we tokenized our data in it's current state, we would run into the following problems:\n",
    "\n",
    "1. Counting things that aren't actually words.  In the example above, `\"[Kendrick]\"` is a note specifying who is speaking, not a lyric contained in the actual song, so it should be removed.  \n",
    "1. Punctuation and capitalization would mess up our word counts.  To the python interpreter, `love`, `Love`, `Love?`, and `Love\\n` are all unique words, and would all be counted separately.  We need to remove punctuation and capitalization, so that all words will be counted correctly. \n",
    "\n",
    "Consider the following sentences from the example above:\n",
    "\n",
    "`\"Love, let's talk about love\\n\", 'Is it anything and everything you hoped for?\\n'`\n",
    "\n",
    "After tokenization, this should look like:\n",
    "\n",
    "`['love', 'let's', 'talk', 'about', 'love', 'is', 'it', 'anything', 'and', 'everything', 'you', 'hoped', 'for']`\n",
    "\n",
    "Tokenization is pretty tedious if we handle it manually, and would probably make use of Regular Expressions, which is outside the scope of this lab.  In order to keep this lab moving, we'll use a library function to clean and tokenize our data so that we can move onto vectorization.  \n",
    "\n",
    "Tokenization is a required task for just about any Natural Language Processing (NLP) task, so great industry-standard tools exist to tokenize things for us, so that we can spend our time on more important tasks without getting bogged down hunting every special symbol or punctuation in a massive dataset. For this lab, we'll make use of the tokenizer in the amazing `nltk` library, which is short for _Natural Language Tool Kit_.\n",
    "\n",
    "**_NOTE:_** NLTK requires extra installation methods to be run the first time certain methods are used.  If `nltk` throws you an error about needing to install additional packages, follow the instructions in the error message to install the dependencies, and then rerun the cell.  \n",
    "\n",
    "Before we tokenize our songs, we'll do only a small manual bit of cleaning.  In the cell below, write a function that allows us to remove lines that have `['artist names']` in it, to ensure that our song files contain only lyrics that are actually in the song. For the lines that remain, make every word lowercase, remove newline characters `\\n`, and any of the following punctuation marks: `\",.'?!\"`\n",
    "\n",
    "Test the function on `test_song` to show that it has successfully removed `'[Kendrick Lamar:]'` and other instances of artist names from the song and returned it.  "
   ]
  },
  {
   "cell_type": "code",
   "execution_count": null,
   "metadata": {},
   "outputs": [],
   "source": [
    "def clean_song(song):\n",
    "    pass\n",
    "\n",
    "song_without_brackets = None\n",
    "print(song_without_brackets)"
   ]
  },
  {
   "cell_type": "markdown",
   "metadata": {},
   "source": [
    "Great. Now, write a function that takes in songs that have had their brackets removed, joins all of the lines into a single string, and then uses `tokenize()` on it to get a fully tokenized version of the song.  Test this funtion on `song_without_brackets` to ensure that the function works. "
   ]
  },
  {
   "cell_type": "code",
   "execution_count": null,
   "metadata": {},
   "outputs": [],
   "source": [
    "def tokenize(song):\n",
    "    pass\n",
    "\n",
    "tokenized_test_song = None\n",
    "tokenized_test_song[:10]"
   ]
  },
  {
   "cell_type": "markdown",
   "metadata": {},
   "source": [
    "Great! Now that we know the ability to tokenize our songs, we can move onto Vectorization. \n",
    "\n",
    "### Count Vectorization\n",
    "\n",
    "Machine Learning algorithms don't understand strings.  However, they do understand math, which means they understand vectors and matrices.  By **_Vectorizing_** the text, we just convert the entire text into a vector, where each element in the vector represents a different word.  The vector is the length of the entire vocabulary--usually, every word that occurs in the English language, or at least every word that appears in our corpus.  Any given sentence can then be represented as a vector where all the vector is 1 (or some other value) for each time that word appears in the sentence. \n",
    "\n",
    "Consider the following example: \n",
    "\n",
    "<center>\"I scream, you scream, we all scream for ice cream.\"</center>\n",
    "\n",
    "| 'aardvark' | 'apple' | [...] | 'I' | 'you' | 'scream' | 'we' | 'all' | 'for' | 'ice' | 'cream' | [...] | 'xylophone' | 'zebra' |\n",
    "|:----------:|:-------:|:-----:|:---:|:-----:|:--------:|:----:|:-----:|:-----:|:-----:|:-------:|:-----:|:-----------:|:-------:|\n",
    "|      0     |    0    |   0   |  1  |   1   |     3    |   1  |   1   |   1   |   1   |    1    |   0   |      0      |    0    |\n",
    "\n",
    "This is called a **_Sparse Representation_**, since the strong majority of the columns will have a value of 0.  Note that elements corresponding to words that do not occur in the sentence have a value of 0, while words that do appear in the sentence have a value of 1 (or 1 for each time it appears in the sentence).\n",
    "\n",
    "Alternatively, we can represent this sentence as a plain old python dictionary of word frequency counts:\n",
    "\n",
    "```python\n",
    "BoW = {\n",
    "    'I':1,\n",
    "    'you':1,\n",
    "    'scream':3,\n",
    "    'we':1,\n",
    "    'all':1,\n",
    "    'for':1,\n",
    "    'ice':1,\n",
    "    'cream':1\n",
    "}\n",
    "```\n",
    "\n",
    "Both of these are examples of **_Count Vectorization_**. They allow us to represent a sentence as a vector, with each element in the vector corresponding to how many times that word is used.\n",
    "\n",
    "#### Positional Information and Bag of Words\n",
    "\n",
    "Notice that when we vectorize a sentence this way, we lose the order that the words were in.  This is the **_Bag of Words_** approach mentioned earlier.  Note that sentences that contain the same words will create the same vectors, even if they mean different things--e.g. `'cats are scared of dogs'` and `'dogs are scared of cats'` would both produce the exact same vector, since they contain the same words.  \n",
    "\n",
    "In the cell below, create a function that takes in a tokenized, cleaned song and returns a Count Vectorized representation of it as a python dictionary. Add in an optional parameter called `vocab` that defaults to `None`. This way, if we are using a vocabulary that contains words not seen in the song, we can still use this function by passing it in to the `vocab` parameter. \n",
    "\n",
    "**_Hint:_**  Consider using a `set` object to make this easier!"
   ]
  },
  {
   "cell_type": "code",
   "execution_count": null,
   "metadata": {},
   "outputs": [],
   "source": [
    "def count_vectorize(song, vocab=None):\n",
    "    pass\n",
    "\n",
    "test_vectorized = None\n",
    "print(test_vectorized)"
   ]
  },
  {
   "cell_type": "markdown",
   "metadata": {},
   "source": [
    "Great! You've just successfully vectorized your first text document! Now, let's look at a more advanced type of vectorization, TF-IDF!\n",
    "\n",
    "### TF-IDF Vectorization\n",
    "\n",
    "TF-IDF stands for **_Term Frequency, Inverse Document Frequency_**.  This is a more advanced form of vectorization that weights each term in a document by how unique it is to the given document it is contained in, which allows us to summarize the contents of a document using a few key words.  If the word is used often in many other documents, it is not unique, and therefore probably not too useful if we wanted to figure out how this document is unique in relation to other documents.  Conversely, if a word is used many times in a document, but rarely in all the other documents we are considering, then it is likely a good indicator for telling us that this word is important to the document in question.  \n",
    "\n",
    "The formula TF-IDF uses to determine the weights of each term in a document is **_Term Frequency_** multipled by **_Inverse Document Frequency_**, where the formula for Term Frequency is:\n",
    "\n",
    "$$\\large Term\\ Frequency(t) = \\frac{number\\ of\\ times\\ t\\ appears\\ in\\ a\\ document} {total\\ number\\ of\\ terms\\ in\\ the\\ document} $$\n",
    "<br>\n",
    "<br>\n",
    "Complete the following function below to calculate term frequency for every term in a document.  "
   ]
  },
  {
   "cell_type": "code",
   "execution_count": null,
   "metadata": {},
   "outputs": [],
   "source": [
    "def term_frequency(BoW_dict):\n",
    "    pass\n",
    "\n",
    "test = None\n",
    "print(list(test)[10:20])"
   ]
  },
  {
   "cell_type": "markdown",
   "metadata": {},
   "source": [
    "The formula for Inverse Document Frequency is:  \n",
    "<br>  \n",
    "<br>\n",
    "$$\\large  IDF(t) =  log_e(\\frac{Total\\ Number\\ of\\ Documents}{Number\\ of\\ Documents\\ with\\ t\\ in\\ it})$$\n",
    "\n",
    "Now that we have this, we can easily calculate _Inverse Document Frequency_.  In the cell below, complete the following function.  this function should take in the list of dictionaries, with each item in the list being a Bag of Words representing the words in a different song. The function should return a dictionary containing the inverse document frequency values for each word.  "
   ]
  },
  {
   "cell_type": "code",
   "execution_count": null,
   "metadata": {},
   "outputs": [],
   "source": [
    "def inverse_document_frequency(list_of_dicts):\n",
    "    pass"
   ]
  },
  {
   "cell_type": "markdown",
   "metadata": {},
   "source": [
    "### Computing TF-IDF\n",
    "\n",
    "Now that we can compute both Term Frequency and Inverse Document Frequency, computing an overall TF-IDF value is simple! All we need to do is multiply the two values.  \n",
    "\n",
    "In the cell below, complete the `tf_idf()` function.  This function should take in a list of dictionaries, just as the `inverse_document_frequency()` function did.  This function return a new list of dictionaries, with each dictionary containing the tf-idf vectorized representation of a corresponding song document. \n",
    "\n",
    "**_NOTE:_** Each document should contain the full vocabulary of the entire combined corpus.  "
   ]
  },
  {
   "cell_type": "code",
   "execution_count": null,
   "metadata": {},
   "outputs": [],
   "source": [
    "def tf_idf(list_of_dicts):\n",
    "    pass"
   ]
  },
  {
   "cell_type": "markdown",
   "metadata": {},
   "source": [
    "### Vectorizing All Documents\n",
    "\n",
    "Now that we've created all the necessary helper functions, we can load in all of our documents and run each through the vectorization pipeline we've just created.\n",
    "\n",
    "In the cell below, complete the `main` function.  This function should take in a list of file names (provided for you in the `filenames` list we created at the start), and then:\n",
    "\n",
    "1. Read in each document\n",
    "1. Tokenize each document\n",
    "1. Convert each document to a Bag of Words (dictionary representation)\n",
    "1. Return a list of dictionaries vectorized using tf-idf, where each dictionary is a vectorized representation of a document.  \n",
    "\n",
    "**_HINT:_** Remember that all files are stored in the `data/` directory.  Be sure to append this to the filename when reading in each file, otherwise the path won't be correct!"
   ]
  },
  {
   "cell_type": "code",
   "execution_count": null,
   "metadata": {},
   "outputs": [],
   "source": [
    "def main(filenames):\n",
    "    pass\n",
    "\n",
    "tf_idf_all_docs = None\n",
    "print(list(tf_idf_all_docs[0])[:10])"
   ]
  },
  {
   "cell_type": "markdown",
   "metadata": {},
   "source": [
    "### Visualizing our Vectorizations\n",
    "\n",
    "Now that we have a tf-idf representation each document, we can move on to the fun part--visualizing everything!\n",
    "\n",
    "Let's investigate how many dimensions our data currently has.  In the cell below, examine our dataset to figure out how many dimensions our dataset has. \n",
    "\n",
    "**_HINT_**: Remember that every word is it's own dimension!"
   ]
  },
  {
   "cell_type": "code",
   "execution_count": null,
   "metadata": {},
   "outputs": [],
   "source": [
    "num_dims = None\n",
    "print(\"Number of Dimensions: {}\".format(num_dims))"
   ]
  },
  {
   "cell_type": "markdown",
   "metadata": {},
   "source": [
    "That's much too high-dimensional for us to visualize! In order to make it understandable to human eyes, we'll need to reduce dimensionality to 2 or 3 dimensions.  \n",
    "\n",
    "### Reducing Dimensionality\n",
    "\n",
    "To do this, we'll use a technique called **_t-SNE_** (short for _t-Stochastic Neighbors Embedding_).  This is too complex for us to code ourselves, so we'll make use of sklearn's implementation of it.  \n",
    "\n",
    "First, we need to pull the words out of the dictionaries stored in `tf_idf_all_docs` so that only the values remain, and store them in lists instead of dictionaries.  This is because the t-SNE object only works with Array-like objects, not dictionaries.  \n",
    "\n",
    "In the cell below, create a list of lists that contains a list representation of the values of each of the dictionaries stored in `tf_idf_all_docs`.  The same structure should remain--e.g. the first list should contain only the values that were in the 1st dictionary in `tf_idf_all_docs`, and so on. "
   ]
  },
  {
   "cell_type": "code",
   "execution_count": null,
   "metadata": {},
   "outputs": [],
   "source": [
    "tf_idf_vals_list = []\n",
    "\n",
    "for i in tf_idf_all_docs:\n",
    "    tf_idf_vals_list.append(list(i.values()))\n",
    "    \n",
    "tf_idf_vals_list[0][:10]"
   ]
  },
  {
   "cell_type": "markdown",
   "metadata": {},
   "source": [
    "Now that we have only the values, we can use the `TSNE` object from `sklearn` to transform our data appropriately.  In the cell below, create a `TSNE` with `n_components=3` passed in as a parameter.  Then, use the created object's `fit_transform()` method to transform the data stored in `tf_idf_vals_list` into 3-dimensional data.  Then, inspect the newly transformed data to confirm that it has the correct dimensionality. "
   ]
  },
  {
   "cell_type": "code",
   "execution_count": null,
   "metadata": {},
   "outputs": [],
   "source": [
    "t_sne_object_3d = None\n",
    "transformed_data_3d = None\n",
    "transformed_data_3d"
   ]
  },
  {
   "cell_type": "markdown",
   "metadata": {},
   "source": [
    "We'll also want to check out how the visualization looks in 2d.  Repeat the process above, but this time, create a `TSNE` object with 2 components instead of 3.  Again, use `fit_transform()` to transform the data and store it in the variable below, and then inspect it to confirm the transformed data has only 2 dimensions. "
   ]
  },
  {
   "cell_type": "code",
   "execution_count": null,
   "metadata": {},
   "outputs": [],
   "source": [
    "t_sne_object_2d = None\n",
    "transformed_data_2d = None\n",
    "transformed_data_2d"
   ]
  },
  {
   "cell_type": "markdown",
   "metadata": {},
   "source": [
    "Now, let's visualize everything!  Run the cell below to a 3D visualization of the songs."
   ]
  },
  {
   "cell_type": "code",
   "execution_count": null,
   "metadata": {},
   "outputs": [],
   "source": [
    "kendrick_3d = transformed_data_3d[:10]\n",
    "k3_x = [i[0] for i in kendrick_3d]\n",
    "k3_y = [i[1] for i in kendrick_3d]\n",
    "k3_z = [i[2] for i in kendrick_3d]\n",
    "\n",
    "garth_3d = transformed_data_3d[10:]\n",
    "g3_x = [i[0] for i in garth_3d]\n",
    "g3_y = [i[1] for i in garth_3d]\n",
    "g3_z = [i[2] for i in garth_3d]\n",
    "\n",
    "fig = plt.figure(figsize=(10,5))\n",
    "ax = fig.add_subplot(111, projection='3d')\n",
    "ax.scatter(k3_x, k3_y, k3_z, c='b', s=60, label='Kendrick')\n",
    "ax.scatter(g3_x, g3_y, g3_z, c='red', s=60, label='Garth')\n",
    "ax.view_init(30, 10)\n",
    "ax.legend()\n",
    "plt.show()\n",
    "\n",
    "kendrick_2d = transformed_data_2d[:10]\n",
    "k2_x = [i[0] for i in kendrick_2d]\n",
    "k2_y = [i[1] for i in kendrick_2d]\n",
    "\n",
    "garth_2d = transformed_data_2d[10:]\n",
    "g2_x = [i[0] for i in garth_2d]\n",
    "g2_y = [i[1] for i in garth_2d]\n",
    "\n",
    "fig = plt.figure(figsize=(20,10))\n",
    "ax = fig.add_subplot(222)\n",
    "ax.scatter(k2_x, k2_y, c='b', label='Kendrick')\n",
    "ax.scatter(g2_x, g2_y, c='red', label='Garth')\n",
    "ax.legend()\n",
    "plt.show()"
   ]
  },
  {
   "cell_type": "markdown",
   "metadata": {},
   "source": [
    "Interesting! Take a crack at interpreting these graphs by answering the following question below:\n",
    "\n",
    "What does each graph mean? Do you find one graph more informative than the other? Do you think that this method shows us discernable differences between Kendrick Lamar songs and Garth Brooks songs?  Use the graphs and your understanding of TF-IDF to support your answer.  \n",
    "\n",
    "Write your answer to this question below this line:\n",
    "________________________________________________________________________________________________________________________________\n",
    "\n",
    "Both graphs show a basic trend among the red and blue dots, although the 3-dimensional graph is more informative than the 2-dimensional graph.  We see a separation between the two artists because they both have words that they use, but the other artist does not.  The words in each song that are common to both are reduced very small numbers or to 0, because of the log operation in the IDF function.  This means that the elements of each song vector with the highest values will be the ones that have words that are unique to that specific document, or at least are rarely used in others.  "
   ]
  },
  {
   "cell_type": "markdown",
   "metadata": {},
   "source": [
    "### Conclusion\n",
    "\n",
    "In this lab, we learned how to: \n",
    "* Tokenize a corpus of words and identify the different choices to be made while parsing them. \n",
    "* Use a Count Vectorization strategy to create a Bag of Words\n",
    "* Use TF-IDF Vectorization with multiple documents to identify words that are important/unique to certain documents. \n",
    "* Visualize and compare vectorized text documents."
   ]
  }
 ],
 "metadata": {
  "kernelspec": {
   "display_name": "Python 3",
   "language": "python",
   "name": "python3"
  },
  "language_info": {
   "codemirror_mode": {
    "name": "ipython",
    "version": 3
   },
   "file_extension": ".py",
   "mimetype": "text/x-python",
   "name": "python",
   "nbconvert_exporter": "python",
   "pygments_lexer": "ipython3",
   "version": "3.6.6"
  }
 },
 "nbformat": 4,
 "nbformat_minor": 2
}
